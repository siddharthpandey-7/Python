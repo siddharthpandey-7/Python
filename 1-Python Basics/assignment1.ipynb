{
 "cells": [
  {
   "cell_type": "code",
   "execution_count": 2,
   "id": "174ce45c",
   "metadata": {},
   "outputs": [
    {
     "name": "stdout",
     "output_type": "stream",
     "text": [
      "Hello World!\n"
     ]
    }
   ],
   "source": [
    "print(\"Hello World!\")"
   ]
  },
  {
   "cell_type": "code",
   "execution_count": 3,
   "id": "a2930a96",
   "metadata": {},
   "outputs": [
    {
     "name": "stdout",
     "output_type": "stream",
     "text": [
      "You entered:ab\n"
     ]
    }
   ],
   "source": [
    "user_input=input(\"please enter something\")\n",
    "print(f\"You entered:{user_input}\")"
   ]
  },
  {
   "cell_type": "code",
   "execution_count": 9,
   "id": "e203ee4f",
   "metadata": {},
   "outputs": [
    {
     "name": "stdout",
     "output_type": "stream",
     "text": [
      "The number is positive\n"
     ]
    }
   ],
   "source": [
    "number=float(input(\"enter a number\"))\n",
    "if number > 0:\n",
    "    print(\"The number is positive\")\n",
    "elif number < 0:\n",
    "    print(\"The number is negative\")\n",
    "else:\n",
    "    (\"The number is zero\")"
   ]
  },
  {
   "cell_type": "code",
   "execution_count": 10,
   "id": "0e84264b",
   "metadata": {},
   "outputs": [
    {
     "name": "stdout",
     "output_type": "stream",
     "text": [
      "The largest is 9.0\n"
     ]
    }
   ],
   "source": [
    "num1=float(input(\"enter first number\"))\n",
    "num2=float(input(\"enter second number\"))\n",
    "num3=float(input(\"enter third number\"))\n",
    "\n",
    "if (num1 >= num2) and (num1 >= num3):\n",
    "    largest=num1\n",
    "elif(num2 >= num1) and (num2 >=num3):\n",
    "    largest=num2\n",
    "else:\n",
    "    largest=num3\n",
    "\n",
    "print(f\"The largest is {largest}\")"
   ]
  },
  {
   "cell_type": "code",
   "execution_count": 1,
   "id": "2ec5c697",
   "metadata": {},
   "outputs": [
    {
     "name": "stdout",
     "output_type": "stream",
     "text": [
      "The factorial of 5 is 120\n"
     ]
    }
   ],
   "source": [
    "def factorial(n):\n",
    "    if n==0:\n",
    "        return 1\n",
    "    else:\n",
    "        return n * factorial(n-1)\n",
    "    \n",
    "num=int(input(\"Enter a number\"))\n",
    "print(f\"The factorial of {num} is {factorial(num)}\")"
   ]
  },
  {
   "cell_type": "code",
   "execution_count": 3,
   "id": "abf0b3c1",
   "metadata": {},
   "outputs": [
    {
     "name": "stdout",
     "output_type": "stream",
     "text": [
      "Integer value: 10, type: <class 'int'>\n",
      "Float value: 10.5,type: <class 'float'>\n",
      "String value: Hello, type: <class 'str'>\n",
      "Boolean value: True, type: <class 'bool'>\n"
     ]
    }
   ],
   "source": [
    "integer_var = 10\n",
    "float_var = 10.5\n",
    "string_var = \"Hello\"\n",
    "boolean_var = True\n",
    "\n",
    "print(f\"Integer value: {integer_var}, type: {type(integer_var)}\")\n",
    "print(f\"Float value: {float_var},type: {type(float_var)}\")\n",
    "print(f\"String value: {string_var}, type: {type(string_var)}\")\n",
    "print(f\"Boolean value: {boolean_var}, type: {type(boolean_var)}\")"
   ]
  },
  {
   "cell_type": "code",
   "execution_count": 4,
   "id": "942bac43",
   "metadata": {},
   "outputs": [
    {
     "name": "stdout",
     "output_type": "stream",
     "text": [
      "Before swap: a = 5, b=10\n",
      "After swap: a = 10, b=5\n"
     ]
    }
   ],
   "source": [
    "a=5\n",
    "b=10\n",
    "print(f\"Before swap: a = {a}, b={b}\")\n",
    "\n",
    "a,b=b,a\n",
    "print(f\"After swap: a = {a}, b={b}\")"
   ]
  },
  {
   "cell_type": "code",
   "execution_count": 5,
   "id": "38df9042",
   "metadata": {},
   "outputs": [
    {
     "name": "stdout",
     "output_type": "stream",
     "text": [
      "97.0C is equal to 206.6F\n"
     ]
    }
   ],
   "source": [
    "celsius = float(input(\"Enter temperature in Celsius: \"))\n",
    "fahrenheit = (celsius * 9/5) + 32\n",
    "print(f\"{celsius}C is equal to {fahrenheit}F\")\n"
   ]
  },
  {
   "cell_type": "code",
   "execution_count": 6,
   "id": "e1e853cb",
   "metadata": {},
   "outputs": [
    {
     "name": "stdout",
     "output_type": "stream",
     "text": [
      "hello world\n"
     ]
    }
   ],
   "source": [
    "string1 = \"hello\"\n",
    "string2 = \"world\"\n",
    "concatenated_string = string1 + \" \" + string2\n",
    "print(concatenated_string)"
   ]
  },
  {
   "cell_type": "code",
   "execution_count": 7,
   "id": "a5e50bce",
   "metadata": {},
   "outputs": [
    {
     "name": "stdout",
     "output_type": "stream",
     "text": [
      "20.5 is a float\n"
     ]
    }
   ],
   "source": [
    "var=20.5\n",
    "if isinstance(var,float):\n",
    "    print(f\"{var} is a float\")\n",
    "else:\n",
    "    print(f\"{var} is not a flaot\")"
   ]
  },
  {
   "cell_type": "code",
   "execution_count": 9,
   "id": "663cdbea",
   "metadata": {},
   "outputs": [
    {
     "name": "stdout",
     "output_type": "stream",
     "text": [
      "addition: 8 + 5 = 13\n",
      "Subtraction: 8 - 5 = 3\n",
      "Multiplication: 8 * 5 = 40\n",
      "Division: 8 / 5 = 1.6\n"
     ]
    }
   ],
   "source": [
    "a=8\n",
    "b=5\n",
    "\n",
    "print(f\"addition: {a} + {b} = {a+b}\")\n",
    "print(f\"Subtraction: {a} - {b} = {a-b}\")\n",
    "print(f\"Multiplication: {a} * {b} = {a*b}\")\n",
    "print(f\"Division: {a} / {b} = {a/b}\")"
   ]
  },
  {
   "cell_type": "code",
   "execution_count": 10,
   "id": "65eacbd4",
   "metadata": {},
   "outputs": [
    {
     "name": "stdout",
     "output_type": "stream",
     "text": [
      "5 == 3: False\n",
      "5 != 3: True\n",
      "5 > 3: True\n",
      "5 < 3: False\n"
     ]
    }
   ],
   "source": [
    "a=5\n",
    "b=3\n",
    "\n",
    "print(f\"{a} == {b}: {a==b}\")\n",
    "print(f\"{a} != {b}: {a != b}\")\n",
    "print(f\"{a} > {b}: {a > b}\")\n",
    "print(f\"{a} < {b}: {a < b}\")"
   ]
  },
  {
   "cell_type": "code",
   "execution_count": 11,
   "id": "958e07d0",
   "metadata": {},
   "outputs": [
    {
     "name": "stdout",
     "output_type": "stream",
     "text": [
      "True and False: False\n",
      "True or False: True\n",
      "not True: False\n"
     ]
    }
   ],
   "source": [
    "a= True\n",
    "b= False\n",
    "\n",
    "print(f\"True and False: {a and b}\")\n",
    "print(f\"True or False: {a or b}\")\n",
    "print(f\"not True: {not a}\")\n"
   ]
  },
  {
   "cell_type": "code",
   "execution_count": 12,
   "id": "44b30816",
   "metadata": {},
   "outputs": [
    {
     "name": "stdout",
     "output_type": "stream",
     "text": [
      "The square of 4.0 is 16.0\n"
     ]
    }
   ],
   "source": [
    "num=float(input(\"Enter a number\"))\n",
    "square = num ** 2\n",
    "print(f\"The square of {num} is {square}\")"
   ]
  },
  {
   "cell_type": "code",
   "execution_count": 13,
   "id": "8746d177",
   "metadata": {},
   "outputs": [
    {
     "name": "stdout",
     "output_type": "stream",
     "text": [
      "5 is odd.\n"
     ]
    }
   ],
   "source": [
    "num = int(input(\"Enter a number\"))\n",
    "if num%2==0:\n",
    "    print(f\"{num} is even.\")\n",
    "else:\n",
    "    print(f\"{num} is odd.\")"
   ]
  },
  {
   "cell_type": "code",
   "execution_count": 14,
   "id": "d6804172",
   "metadata": {},
   "outputs": [
    {
     "name": "stdout",
     "output_type": "stream",
     "text": [
      "The sum of first 10 natural numbers is55\n"
     ]
    }
   ],
   "source": [
    "n=int(input(\"Enter a number :\"))\n",
    "sum_n = (n*(n+1)) // 2\n",
    "print(f\"The sum of first {n} natural numbers is{sum_n}\")"
   ]
  },
  {
   "cell_type": "code",
   "execution_count": 16,
   "id": "fa7e436d",
   "metadata": {},
   "outputs": [
    {
     "name": "stdout",
     "output_type": "stream",
     "text": [
      "2022 is not a leap year.\n"
     ]
    }
   ],
   "source": [
    "year = int(input(\"Enter a year\"))\n",
    "if (year % 4 ==0 and year % 100 != 0) or (year % 400 == 0):\n",
    "    print(f\"{year} is a leap year.\")\n",
    "else:\n",
    "    print(f\"{year} is not a leap year.\")"
   ]
  },
  {
   "cell_type": "code",
   "execution_count": 17,
   "id": "a78178e5",
   "metadata": {},
   "outputs": [
    {
     "name": "stdout",
     "output_type": "stream",
     "text": [
      "The reversed string is: 87 52 59 58 6 7 5 5 \n"
     ]
    }
   ],
   "source": [
    "string = input(\"Enter a string\")\n",
    "reversed_string= string[::-1]\n",
    "print(f\"The reversed string is: {reversed_string} \")"
   ]
  },
  {
   "cell_type": "code",
   "execution_count": 19,
   "id": "6a8328f6",
   "metadata": {},
   "outputs": [
    {
     "name": "stdout",
     "output_type": "stream",
     "text": [
      "imi is a palindrome\n"
     ]
    }
   ],
   "source": [
    "string = input(\"Enter a string\")\n",
    "if string == string[::-1]:\n",
    "    print(f\"{string} is a palindrome\")\n",
    "else:\n",
    "    print(f\"{string} is not a palindrome\")\n"
   ]
  },
  {
   "cell_type": "code",
   "execution_count": 20,
   "id": "8fd9debc",
   "metadata": {},
   "outputs": [
    {
     "name": "stdout",
     "output_type": "stream",
     "text": [
      "Sorted list: [5, 8, 25, 36, 95]\n"
     ]
    }
   ],
   "source": [
    "numbers=[int(x) for x in input(\"Enter numbers separated by space: \").split()]\n",
    "numbers.sort()\n",
    "print(f\"Sorted list: {numbers}\")"
   ]
  }
 ],
 "metadata": {
  "kernelspec": {
   "display_name": "Python 3",
   "language": "python",
   "name": "python3"
  },
  "language_info": {
   "codemirror_mode": {
    "name": "ipython",
    "version": 3
   },
   "file_extension": ".py",
   "mimetype": "text/x-python",
   "name": "python",
   "nbconvert_exporter": "python",
   "pygments_lexer": "ipython3",
   "version": "3.12.0"
  }
 },
 "nbformat": 4,
 "nbformat_minor": 5
}
